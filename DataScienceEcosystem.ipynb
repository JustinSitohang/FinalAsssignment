{
 "cells": [
  {
   "cell_type": "markdown",
   "id": "59892cc0",
   "metadata": {},
   "source": [
    "# Data Science Tools and Ecosystem\n",
    "\n",
    "In this notebook, Data Science Tools and Ecosystem are summarized.\n",
    "\n",
    "Some of the popular languages that Data Scientists use are:\n",
    "1. Phyton\n",
    "2. R\n",
    "3. Java Script\n",
    "\n",
    "Some of the commonly used libraries used by Data Scientists include:\n",
    "1. Keras\n",
    "2. Tensorflow\n",
    "3. NumPy\n",
    "\n",
    "| Data Science Tools |\n",
    "| -------------------| \n",
    "| Jupyter Notebook | \n",
    "| Jupyter Lab | \n",
    "| R Studio |"
   ]
  },
  {
   "cell_type": "markdown",
   "id": "7801de9b",
   "metadata": {},
   "source": [
    "### Below are a few examples of evaluating arithmetic expressions in Python"
   ]
  },
  {
   "cell_type": "code",
   "execution_count": 1,
   "id": "ff72785a",
   "metadata": {},
   "outputs": [
    {
     "data": {
      "text/plain": [
       "17"
      ]
     },
     "execution_count": 1,
     "metadata": {},
     "output_type": "execute_result"
    }
   ],
   "source": [
    "# This a simple arithmetic expression to mutiply then add integers\n",
    "\n",
    "(3*4)+5"
   ]
  },
  {
   "cell_type": "code",
   "execution_count": 7,
   "id": "c1d7d33d",
   "metadata": {},
   "outputs": [
    {
     "data": {
      "text/plain": [
       "33.333333333333336"
      ]
     },
     "execution_count": 7,
     "metadata": {},
     "output_type": "execute_result"
    }
   ],
   "source": [
    "# This will convert 200 minutes to hours by diving by 60\n",
    "200/6"
   ]
  },
  {
   "cell_type": "markdown",
   "id": "1497d4df",
   "metadata": {},
   "source": [
    "Objectives:\n",
    "- List popular languages for Data Science\n",
    "- The process of Data Mining \n",
    "- Data Science Categories\n",
    "- Benefit each of popular languages\n",
    "- List of Other Languages for Data Science"
   ]
  },
  {
   "cell_type": "markdown",
   "id": "8fb7325d",
   "metadata": {},
   "source": [
    "## Author\n",
    "Justin Sitohang"
   ]
  }
 ],
 "metadata": {
  "kernelspec": {
   "display_name": "Python 3",
   "language": "python",
   "name": "python3"
  },
  "language_info": {
   "codemirror_mode": {
    "name": "ipython",
    "version": 3
   },
   "file_extension": ".py",
   "mimetype": "text/x-python",
   "name": "python",
   "nbconvert_exporter": "python",
   "pygments_lexer": "ipython3",
   "version": "3.8.8"
  }
 },
 "nbformat": 4,
 "nbformat_minor": 5
}
